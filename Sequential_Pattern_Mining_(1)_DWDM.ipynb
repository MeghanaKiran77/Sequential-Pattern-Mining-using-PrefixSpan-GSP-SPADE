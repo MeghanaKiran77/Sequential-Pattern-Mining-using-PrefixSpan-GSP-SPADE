{
  "nbformat": 4,
  "nbformat_minor": 0,
  "metadata": {
    "colab": {
      "provenance": [],
      "authorship_tag": "ABX9TyM7YwhJUy/0zN1lNd/QrqOV",
      "include_colab_link": true
    },
    "kernelspec": {
      "name": "python3",
      "display_name": "Python 3"
    },
    "language_info": {
      "name": "python"
    }
  },
  "cells": [
    {
      "cell_type": "markdown",
      "metadata": {
        "id": "view-in-github",
        "colab_type": "text"
      },
      "source": [
        "<a href=\"https://colab.research.google.com/github/MeghanaKiran77/Sequential-Pattern-Mining-using-PrefixSpan-GSP-SPADE/blob/main/Sequential_Pattern_Mining_(1)_DWDM.ipynb\" target=\"_parent\"><img src=\"https://colab.research.google.com/assets/colab-badge.svg\" alt=\"Open In Colab\"/></a>"
      ]
    },
    {
      "cell_type": "code",
      "source": [
        "from google.colab import files\n",
        "import shutil  # To rename/move the file\n",
        "\n",
        "# Upload the file\n",
        "uploaded = files.upload()\n",
        "\n",
        "# Get the uploaded filename (automatically fetches the name)\n",
        "for filename in uploaded.keys():\n",
        "    original_filename = filename\n",
        "    break  # In case you upload more than one, we take the first one\n",
        "\n",
        "# Define your new, fixed filename\n",
        "new_filename = \"user_travel_sequences.csv\"\n",
        "\n",
        "# Rename the uploaded file to your fixed name\n",
        "shutil.move(original_filename, new_filename)\n",
        "\n",
        "print(f\"File successfully renamed to: {new_filename}\")\n"
      ],
      "metadata": {
        "colab": {
          "base_uri": "https://localhost:8080/",
          "height": 92
        },
        "id": "Z_rg_L_Ae-rA",
        "outputId": "5512f9e6-7696-46a4-bd07-4f08d2b91f30"
      },
      "execution_count": 8,
      "outputs": [
        {
          "output_type": "display_data",
          "data": {
            "text/plain": [
              "<IPython.core.display.HTML object>"
            ],
            "text/html": [
              "\n",
              "     <input type=\"file\" id=\"files-ffe0ad28-2bf5-40d0-ad1c-17ce4bc6b939\" name=\"files[]\" multiple disabled\n",
              "        style=\"border:none\" />\n",
              "     <output id=\"result-ffe0ad28-2bf5-40d0-ad1c-17ce4bc6b939\">\n",
              "      Upload widget is only available when the cell has been executed in the\n",
              "      current browser session. Please rerun this cell to enable.\n",
              "      </output>\n",
              "      <script>// Copyright 2017 Google LLC\n",
              "//\n",
              "// Licensed under the Apache License, Version 2.0 (the \"License\");\n",
              "// you may not use this file except in compliance with the License.\n",
              "// You may obtain a copy of the License at\n",
              "//\n",
              "//      http://www.apache.org/licenses/LICENSE-2.0\n",
              "//\n",
              "// Unless required by applicable law or agreed to in writing, software\n",
              "// distributed under the License is distributed on an \"AS IS\" BASIS,\n",
              "// WITHOUT WARRANTIES OR CONDITIONS OF ANY KIND, either express or implied.\n",
              "// See the License for the specific language governing permissions and\n",
              "// limitations under the License.\n",
              "\n",
              "/**\n",
              " * @fileoverview Helpers for google.colab Python module.\n",
              " */\n",
              "(function(scope) {\n",
              "function span(text, styleAttributes = {}) {\n",
              "  const element = document.createElement('span');\n",
              "  element.textContent = text;\n",
              "  for (const key of Object.keys(styleAttributes)) {\n",
              "    element.style[key] = styleAttributes[key];\n",
              "  }\n",
              "  return element;\n",
              "}\n",
              "\n",
              "// Max number of bytes which will be uploaded at a time.\n",
              "const MAX_PAYLOAD_SIZE = 100 * 1024;\n",
              "\n",
              "function _uploadFiles(inputId, outputId) {\n",
              "  const steps = uploadFilesStep(inputId, outputId);\n",
              "  const outputElement = document.getElementById(outputId);\n",
              "  // Cache steps on the outputElement to make it available for the next call\n",
              "  // to uploadFilesContinue from Python.\n",
              "  outputElement.steps = steps;\n",
              "\n",
              "  return _uploadFilesContinue(outputId);\n",
              "}\n",
              "\n",
              "// This is roughly an async generator (not supported in the browser yet),\n",
              "// where there are multiple asynchronous steps and the Python side is going\n",
              "// to poll for completion of each step.\n",
              "// This uses a Promise to block the python side on completion of each step,\n",
              "// then passes the result of the previous step as the input to the next step.\n",
              "function _uploadFilesContinue(outputId) {\n",
              "  const outputElement = document.getElementById(outputId);\n",
              "  const steps = outputElement.steps;\n",
              "\n",
              "  const next = steps.next(outputElement.lastPromiseValue);\n",
              "  return Promise.resolve(next.value.promise).then((value) => {\n",
              "    // Cache the last promise value to make it available to the next\n",
              "    // step of the generator.\n",
              "    outputElement.lastPromiseValue = value;\n",
              "    return next.value.response;\n",
              "  });\n",
              "}\n",
              "\n",
              "/**\n",
              " * Generator function which is called between each async step of the upload\n",
              " * process.\n",
              " * @param {string} inputId Element ID of the input file picker element.\n",
              " * @param {string} outputId Element ID of the output display.\n",
              " * @return {!Iterable<!Object>} Iterable of next steps.\n",
              " */\n",
              "function* uploadFilesStep(inputId, outputId) {\n",
              "  const inputElement = document.getElementById(inputId);\n",
              "  inputElement.disabled = false;\n",
              "\n",
              "  const outputElement = document.getElementById(outputId);\n",
              "  outputElement.innerHTML = '';\n",
              "\n",
              "  const pickedPromise = new Promise((resolve) => {\n",
              "    inputElement.addEventListener('change', (e) => {\n",
              "      resolve(e.target.files);\n",
              "    });\n",
              "  });\n",
              "\n",
              "  const cancel = document.createElement('button');\n",
              "  inputElement.parentElement.appendChild(cancel);\n",
              "  cancel.textContent = 'Cancel upload';\n",
              "  const cancelPromise = new Promise((resolve) => {\n",
              "    cancel.onclick = () => {\n",
              "      resolve(null);\n",
              "    };\n",
              "  });\n",
              "\n",
              "  // Wait for the user to pick the files.\n",
              "  const files = yield {\n",
              "    promise: Promise.race([pickedPromise, cancelPromise]),\n",
              "    response: {\n",
              "      action: 'starting',\n",
              "    }\n",
              "  };\n",
              "\n",
              "  cancel.remove();\n",
              "\n",
              "  // Disable the input element since further picks are not allowed.\n",
              "  inputElement.disabled = true;\n",
              "\n",
              "  if (!files) {\n",
              "    return {\n",
              "      response: {\n",
              "        action: 'complete',\n",
              "      }\n",
              "    };\n",
              "  }\n",
              "\n",
              "  for (const file of files) {\n",
              "    const li = document.createElement('li');\n",
              "    li.append(span(file.name, {fontWeight: 'bold'}));\n",
              "    li.append(span(\n",
              "        `(${file.type || 'n/a'}) - ${file.size} bytes, ` +\n",
              "        `last modified: ${\n",
              "            file.lastModifiedDate ? file.lastModifiedDate.toLocaleDateString() :\n",
              "                                    'n/a'} - `));\n",
              "    const percent = span('0% done');\n",
              "    li.appendChild(percent);\n",
              "\n",
              "    outputElement.appendChild(li);\n",
              "\n",
              "    const fileDataPromise = new Promise((resolve) => {\n",
              "      const reader = new FileReader();\n",
              "      reader.onload = (e) => {\n",
              "        resolve(e.target.result);\n",
              "      };\n",
              "      reader.readAsArrayBuffer(file);\n",
              "    });\n",
              "    // Wait for the data to be ready.\n",
              "    let fileData = yield {\n",
              "      promise: fileDataPromise,\n",
              "      response: {\n",
              "        action: 'continue',\n",
              "      }\n",
              "    };\n",
              "\n",
              "    // Use a chunked sending to avoid message size limits. See b/62115660.\n",
              "    let position = 0;\n",
              "    do {\n",
              "      const length = Math.min(fileData.byteLength - position, MAX_PAYLOAD_SIZE);\n",
              "      const chunk = new Uint8Array(fileData, position, length);\n",
              "      position += length;\n",
              "\n",
              "      const base64 = btoa(String.fromCharCode.apply(null, chunk));\n",
              "      yield {\n",
              "        response: {\n",
              "          action: 'append',\n",
              "          file: file.name,\n",
              "          data: base64,\n",
              "        },\n",
              "      };\n",
              "\n",
              "      let percentDone = fileData.byteLength === 0 ?\n",
              "          100 :\n",
              "          Math.round((position / fileData.byteLength) * 100);\n",
              "      percent.textContent = `${percentDone}% done`;\n",
              "\n",
              "    } while (position < fileData.byteLength);\n",
              "  }\n",
              "\n",
              "  // All done.\n",
              "  yield {\n",
              "    response: {\n",
              "      action: 'complete',\n",
              "    }\n",
              "  };\n",
              "}\n",
              "\n",
              "scope.google = scope.google || {};\n",
              "scope.google.colab = scope.google.colab || {};\n",
              "scope.google.colab._files = {\n",
              "  _uploadFiles,\n",
              "  _uploadFilesContinue,\n",
              "};\n",
              "})(self);\n",
              "</script> "
            ]
          },
          "metadata": {}
        },
        {
          "output_type": "stream",
          "name": "stdout",
          "text": [
            "Saving user_travel_sequences.csv to user_travel_sequences (4).csv\n",
            "File successfully renamed to: user_travel_sequences.csv\n"
          ]
        }
      ]
    },
    {
      "cell_type": "code",
      "source": [
        "import pandas as pd\n",
        "\n",
        "df = pd.read_csv('user_travel_sequences.csv')\n",
        "print(df.head())\n"
      ],
      "metadata": {
        "colab": {
          "base_uri": "https://localhost:8080/"
        },
        "id": "zIFVpaU3gqPW",
        "outputId": "b698b521-80ff-4871-9e2d-efbd5a26d345"
      },
      "execution_count": 1,
      "outputs": [
        {
          "output_type": "stream",
          "name": "stdout",
          "text": [
            "  user_id        date      time  location_name  latitude  longitude  \\\n",
            "0    U001  2025-03-01  08:00 AM        Library   17.4123    78.4321   \n",
            "1    U001  2025-03-01  09:00 AM  Grocery Store   17.4180    78.4345   \n",
            "2    U001  2025-03-01  10:00 AM     Restaurant   17.4201    78.4367   \n",
            "3    U001  2025-03-01  11:30 AM         School   17.4260    78.4380   \n",
            "4    U001  2025-03-01  13:00 PM       Bus Stop   17.4285    78.4402   \n",
            "\n",
            "  transport_mode  \n",
            "0           Walk  \n",
            "1           Auto  \n",
            "2           Auto  \n",
            "3            Bus  \n",
            "4           Walk  \n"
          ]
        }
      ]
    },
    {
      "cell_type": "code",
      "source": [
        "import pandas as pd\n",
        "import re\n",
        "\n",
        "# Load the dataset\n",
        "df = pd.read_csv(\"user_travel_sequences.csv\")\n",
        "\n",
        "# ✅ Fix invalid PM/AM like \"13:00 PM\" → \"01:00 PM\"\n",
        "def fix_time_format(t):\n",
        "    t = t.strip()\n",
        "    match = re.match(r'(\\d{2}):(\\d{2})\\s*(AM|PM)', t, re.IGNORECASE)\n",
        "    if match:\n",
        "        hour, minute, period = match.groups()\n",
        "        hour = int(hour)\n",
        "        # Convert to 12-hour format if needed\n",
        "        if hour > 12:\n",
        "            hour -= 12\n",
        "        return f\"{hour:02}:{minute} {period.upper()}\"\n",
        "    return t  # return as-is if it doesn't match pattern\n",
        "\n",
        "df[\"time\"] = df[\"time\"].apply(fix_time_format)\n",
        "\n",
        "# ✅ Convert cleaned time to datetime.time\n",
        "df[\"datetime\"] = pd.to_datetime(df[\"date\"] + \" \" + df[\"time\"], format=\"%Y-%m-%d %I:%M %p\")\n",
        "df = df.sort_values(by=[\"user_id\", \"datetime\"])\n",
        "\n",
        "# ✅ Group by user and date to get daily sequences\n",
        "user_sequences = df.groupby([\"user_id\", df[\"datetime\"].dt.date])[\"location_name\"].apply(list).reset_index()\n",
        "\n",
        "# ✅ Group again by user to get list of sequences\n",
        "final_sequences = user_sequences.groupby(\"user_id\")[\"location_name\"].apply(list).to_dict()\n",
        "\n",
        "# ✅ Print results\n",
        "for user, sequences in final_sequences.items():\n",
        "    print(f\"\\nUser {user}:\")\n",
        "    for seq in sequences:\n",
        "        print(\" → \".join(seq))\n"
      ],
      "metadata": {
        "colab": {
          "base_uri": "https://localhost:8080/"
        },
        "id": "xEwD3MvVlAkf",
        "outputId": "64208f47-3064-45ff-8942-c5a83364c1ed"
      },
      "execution_count": 2,
      "outputs": [
        {
          "output_type": "stream",
          "name": "stdout",
          "text": [
            "\n",
            "User U001:\n",
            "Library → Grocery Store → Restaurant → School → Bus Stop\n",
            "Gym → Playground\n",
            "Cafe → Mall → Home → Restaurant\n",
            "Office → Coffee Shop → School\n",
            "Bus Stop → Cafe\n",
            "Gym → School → Cafe → Coffee Shop → Metro Station\n",
            "Playground → Coffee Shop → Library\n",
            "\n",
            "User U002:\n",
            "School → Office → Restaurant → Cafe → Bus Stop\n",
            "Bus Stop → Mall → Metro Station → Playground\n",
            "Home → Office → Metro Station\n",
            "Playground → Gym → Home → Mall\n",
            "Playground → Mall → Library\n",
            "Bus Stop → Grocery Store\n",
            "Restaurant → Home → Bus Stop\n",
            "Gym → Office → Cafe → Playground → Metro Station\n",
            "Metro Station → Coffee Shop\n",
            "\n",
            "User U003:\n",
            "Office → Grocery Store → Gym → Playground → Restaurant\n",
            "Metro Station → Bus Stop → Restaurant → Grocery Store\n",
            "Library → Bus Stop → Gym → School → Home\n",
            "Coffee Shop → School\n",
            "Coffee Shop → Library\n",
            "Restaurant → Metro Station → Playground → Library\n",
            "Metro Station → Cafe → Bus Stop\n",
            "\n",
            "User U004:\n",
            "Coffee Shop → School → Home\n",
            "Mall → Cafe → Gym → Playground\n",
            "Bus Stop → Restaurant → Home → Office → Grocery Store\n",
            "Playground → Mall → Cafe → Office\n",
            "Grocery Store → Bus Stop → Library → Gym → Restaurant\n",
            "\n",
            "User U005:\n",
            "Home → Coffee Shop → Restaurant → Cafe\n",
            "Restaurant → Mall\n",
            "Office → Gym → Coffee Shop → School\n",
            "Library → Playground\n",
            "Bus Stop → Grocery Store → Coffee Shop → Gym\n",
            "Cafe → Restaurant → Playground → School\n",
            "Library → Mall\n",
            "Playground → Cafe → Restaurant → Grocery Store\n",
            "School → Metro Station\n",
            "\n",
            "User U006:\n",
            "Playground → Restaurant → Mall\n",
            "Gym → Office\n",
            "Cafe → Restaurant → Coffee Shop\n",
            "Restaurant → Coffee Shop\n",
            "Home → Cafe\n",
            "Coffee Shop → Cafe → Office → Metro Station → Library\n",
            "Mall → Library → Home → Cafe\n",
            "Mall → Playground → Coffee Shop → Home\n",
            "School → Mall → Grocery Store → Bus Stop\n",
            "\n",
            "User U007:\n",
            "Library → Restaurant\n",
            "Bus Stop → Office\n",
            "Restaurant → Grocery Store\n",
            "School → Restaurant → Coffee Shop → Bus Stop\n",
            "Metro Station → Coffee Shop\n",
            "Bus Stop → Home → School → Gym → Restaurant\n",
            "Home → Metro Station → Library → Gym → Restaurant\n",
            "\n",
            "User U008:\n",
            "Bus Stop → Playground → Cafe → Grocery Store\n",
            "Mall → Cafe\n",
            "Office → Coffee Shop → Restaurant → Gym\n",
            "Office → Coffee Shop\n",
            "School → Home → Gym → Coffee Shop\n",
            "\n",
            "User U009:\n",
            "Grocery Store → Gym → Metro Station\n",
            "Bus Stop → Office → Cafe → Mall\n",
            "Library → Coffee Shop → Playground → Bus Stop → Cafe\n",
            "Playground → Grocery Store → School → Bus Stop\n",
            "Grocery Store → School → Gym → Library\n",
            "\n",
            "User U010:\n",
            "Metro Station → Office → Restaurant → Bus Stop → Library\n",
            "Home → Mall → Bus Stop → Grocery Store\n",
            "School → Mall → Restaurant → Gym\n",
            "Cafe → Library → Coffee Shop\n",
            "Cafe → Grocery Store → Bus Stop → School\n"
          ]
        }
      ]
    },
    {
      "cell_type": "code",
      "source": [
        "# Flatten all user sequences into a single list of sequences\n",
        "all_sequences = []\n",
        "for user, sequences in final_sequences.items():\n",
        "    all_sequences.extend(sequences)\n",
        "\n",
        "import pprint\n",
        "pprint.pprint(all_sequences)\n"
      ],
      "metadata": {
        "colab": {
          "base_uri": "https://localhost:8080/"
        },
        "id": "kJgO_PYpl8gZ",
        "outputId": "79f144da-1333-4ffb-d501-66749069344e"
      },
      "execution_count": 16,
      "outputs": [
        {
          "output_type": "stream",
          "name": "stdout",
          "text": [
            "[['Library', 'Grocery Store', 'Restaurant', 'School', 'Bus Stop'],\n",
            " ['Gym', 'Playground'],\n",
            " ['Cafe', 'Mall', 'Home', 'Restaurant'],\n",
            " ['Office', 'Coffee Shop', 'School'],\n",
            " ['Bus Stop', 'Cafe'],\n",
            " ['Gym', 'School', 'Cafe', 'Coffee Shop', 'Metro Station'],\n",
            " ['Playground', 'Coffee Shop', 'Library'],\n",
            " ['School', 'Office', 'Restaurant', 'Cafe', 'Bus Stop'],\n",
            " ['Bus Stop', 'Mall', 'Metro Station', 'Playground'],\n",
            " ['Home', 'Office', 'Metro Station'],\n",
            " ['Playground', 'Gym', 'Home', 'Mall'],\n",
            " ['Playground', 'Mall', 'Library'],\n",
            " ['Bus Stop', 'Grocery Store'],\n",
            " ['Restaurant', 'Home', 'Bus Stop'],\n",
            " ['Gym', 'Office', 'Cafe', 'Playground', 'Metro Station'],\n",
            " ['Metro Station', 'Coffee Shop'],\n",
            " ['Office', 'Grocery Store', 'Gym', 'Playground', 'Restaurant'],\n",
            " ['Metro Station', 'Bus Stop', 'Restaurant', 'Grocery Store'],\n",
            " ['Library', 'Bus Stop', 'Gym', 'School', 'Home'],\n",
            " ['Coffee Shop', 'School'],\n",
            " ['Coffee Shop', 'Library'],\n",
            " ['Restaurant', 'Metro Station', 'Playground', 'Library'],\n",
            " ['Metro Station', 'Cafe', 'Bus Stop'],\n",
            " ['Coffee Shop', 'School', 'Home'],\n",
            " ['Mall', 'Cafe', 'Gym', 'Playground'],\n",
            " ['Bus Stop', 'Restaurant', 'Home', 'Office', 'Grocery Store'],\n",
            " ['Playground', 'Mall', 'Cafe', 'Office'],\n",
            " ['Grocery Store', 'Bus Stop', 'Library', 'Gym', 'Restaurant'],\n",
            " ['Home', 'Coffee Shop', 'Restaurant', 'Cafe'],\n",
            " ['Restaurant', 'Mall'],\n",
            " ['Office', 'Gym', 'Coffee Shop', 'School'],\n",
            " ['Library', 'Playground'],\n",
            " ['Bus Stop', 'Grocery Store', 'Coffee Shop', 'Gym'],\n",
            " ['Cafe', 'Restaurant', 'Playground', 'School'],\n",
            " ['Library', 'Mall'],\n",
            " ['Playground', 'Cafe', 'Restaurant', 'Grocery Store'],\n",
            " ['School', 'Metro Station'],\n",
            " ['Playground', 'Restaurant', 'Mall'],\n",
            " ['Gym', 'Office'],\n",
            " ['Cafe', 'Restaurant', 'Coffee Shop'],\n",
            " ['Restaurant', 'Coffee Shop'],\n",
            " ['Home', 'Cafe'],\n",
            " ['Coffee Shop', 'Cafe', 'Office', 'Metro Station', 'Library'],\n",
            " ['Mall', 'Library', 'Home', 'Cafe'],\n",
            " ['Mall', 'Playground', 'Coffee Shop', 'Home'],\n",
            " ['School', 'Mall', 'Grocery Store', 'Bus Stop'],\n",
            " ['Library', 'Restaurant'],\n",
            " ['Bus Stop', 'Office'],\n",
            " ['Restaurant', 'Grocery Store'],\n",
            " ['School', 'Restaurant', 'Coffee Shop', 'Bus Stop'],\n",
            " ['Metro Station', 'Coffee Shop'],\n",
            " ['Bus Stop', 'Home', 'School', 'Gym', 'Restaurant'],\n",
            " ['Home', 'Metro Station', 'Library', 'Gym', 'Restaurant'],\n",
            " ['Bus Stop', 'Playground', 'Cafe', 'Grocery Store'],\n",
            " ['Mall', 'Cafe'],\n",
            " ['Office', 'Coffee Shop', 'Restaurant', 'Gym'],\n",
            " ['Office', 'Coffee Shop'],\n",
            " ['School', 'Home', 'Gym', 'Coffee Shop'],\n",
            " ['Grocery Store', 'Gym', 'Metro Station'],\n",
            " ['Bus Stop', 'Office', 'Cafe', 'Mall'],\n",
            " ['Library', 'Coffee Shop', 'Playground', 'Bus Stop', 'Cafe'],\n",
            " ['Playground', 'Grocery Store', 'School', 'Bus Stop'],\n",
            " ['Grocery Store', 'School', 'Gym', 'Library'],\n",
            " ['Metro Station', 'Office', 'Restaurant', 'Bus Stop', 'Library'],\n",
            " ['Home', 'Mall', 'Bus Stop', 'Grocery Store'],\n",
            " ['School', 'Mall', 'Restaurant', 'Gym'],\n",
            " ['Cafe', 'Library', 'Coffee Shop'],\n",
            " ['Cafe', 'Grocery Store', 'Bus Stop', 'School']]\n"
          ]
        }
      ]
    },
    {
      "cell_type": "code",
      "source": [
        "import pickle\n",
        "\n",
        "with open(\"all_sequences.pkl\", \"wb\") as f:\n",
        "    pickle.dump(all_sequences, f)\n"
      ],
      "metadata": {
        "id": "WHUVfxZ8nnuY"
      },
      "execution_count": 18,
      "outputs": []
    },
    {
      "cell_type": "code",
      "source": [
        "with open(\"all_sequences.pkl\", \"rb\") as f:\n",
        "    all_sequences = pickle.load(f)"
      ],
      "metadata": {
        "id": "JI8qRkjVoCeW"
      },
      "execution_count": 19,
      "outputs": []
    },
    {
      "cell_type": "code",
      "source": [
        "from prefixspan import PrefixSpan\n",
        "\n",
        "# Initialize the PrefixSpan object with your sequences\n",
        "ps = PrefixSpan(all_sequences)\n",
        "\n",
        "# Get frequent patterns with minimum support = 2\n",
        "frequent_patterns = ps.frequent(3)\n",
        "\n",
        "# Filter out single-item sequences\n",
        "filtered_patterns = [pattern for pattern in frequent_patterns if len(pattern[1]) >= 2]\n",
        "\n",
        "# Sort by support in descending order\n",
        "filtered_patterns.sort(reverse=True, key=lambda x: x[0])\n",
        "\n",
        "# Print results\n",
        "print(\"Most frequent patterns with min_support = 2, are as follows:\")\n",
        "for support, sequence in filtered_patterns:\n",
        "    print(f\"Support: {support} | Sequence: {sequence}\")\n"
      ],
      "metadata": {
        "colab": {
          "base_uri": "https://localhost:8080/"
        },
        "id": "Ti_I-_azon57",
        "outputId": "50b21fd6-1c15-4f4f-8a1c-e9d2f81547a2"
      },
      "execution_count": 28,
      "outputs": [
        {
          "output_type": "stream",
          "name": "stdout",
          "text": [
            "Most frequent patterns with min_support = 2, are as follows:\n",
            "Support: 6 | Sequence: ['Bus Stop', 'Grocery Store']\n",
            "Support: 5 | Sequence: ['Grocery Store', 'Bus Stop']\n",
            "Support: 5 | Sequence: ['Grocery Store', 'Gym']\n",
            "Support: 5 | Sequence: ['Restaurant', 'Bus Stop']\n",
            "Support: 5 | Sequence: ['School', 'Bus Stop']\n",
            "Support: 4 | Sequence: ['Library', 'Restaurant']\n",
            "Support: 4 | Sequence: ['Grocery Store', 'School']\n",
            "Support: 4 | Sequence: ['Restaurant', 'Grocery Store']\n",
            "Support: 4 | Sequence: ['School', 'Restaurant']\n",
            "Support: 4 | Sequence: ['School', 'Gym']\n",
            "Support: 4 | Sequence: ['Bus Stop', 'Cafe']\n",
            "Support: 4 | Sequence: ['Bus Stop', 'Restaurant']\n",
            "Support: 4 | Sequence: ['Bus Stop', 'Gym']\n",
            "Support: 4 | Sequence: ['Gym', 'Playground']\n",
            "Support: 4 | Sequence: ['Gym', 'Restaurant']\n",
            "Support: 4 | Sequence: ['Playground', 'Mall']\n",
            "Support: 4 | Sequence: ['Playground', 'Cafe']\n",
            "Support: 4 | Sequence: ['Cafe', 'Restaurant']\n",
            "Support: 4 | Sequence: ['Mall', 'Cafe']\n",
            "Support: 4 | Sequence: ['Home', 'Restaurant']\n",
            "Support: 4 | Sequence: ['Office', 'Coffee Shop']\n",
            "Support: 4 | Sequence: ['Office', 'Restaurant']\n",
            "Support: 4 | Sequence: ['Coffee Shop', 'School']\n",
            "Support: 4 | Sequence: ['Metro Station', 'Library']\n",
            "Support: 3 | Sequence: ['Library', 'Bus Stop']\n",
            "Support: 3 | Sequence: ['Library', 'Gym']\n",
            "Support: 3 | Sequence: ['Grocery Store', 'Restaurant']\n",
            "Support: 3 | Sequence: ['Restaurant', 'Coffee Shop']\n",
            "Support: 3 | Sequence: ['School', 'Coffee Shop']\n",
            "Support: 3 | Sequence: ['School', 'Home']\n",
            "Support: 3 | Sequence: ['Bus Stop', 'School']\n",
            "Support: 3 | Sequence: ['Bus Stop', 'Home']\n",
            "Support: 3 | Sequence: ['Bus Stop', 'Office']\n",
            "Support: 3 | Sequence: ['Gym', 'School']\n",
            "Support: 3 | Sequence: ['Gym', 'Coffee Shop']\n",
            "Support: 3 | Sequence: ['Gym', 'Metro Station']\n",
            "Support: 3 | Sequence: ['Playground', 'Library']\n",
            "Support: 3 | Sequence: ['Playground', 'Restaurant']\n",
            "Support: 3 | Sequence: ['Playground', 'Grocery Store']\n",
            "Support: 3 | Sequence: ['Cafe', 'Coffee Shop']\n",
            "Support: 3 | Sequence: ['Cafe', 'Metro Station']\n",
            "Support: 3 | Sequence: ['Cafe', 'Bus Stop']\n",
            "Support: 3 | Sequence: ['Cafe', 'Playground']\n",
            "Support: 3 | Sequence: ['Cafe', 'Grocery Store']\n",
            "Support: 3 | Sequence: ['Mall', 'Home']\n",
            "Support: 3 | Sequence: ['Mall', 'Playground']\n",
            "Support: 3 | Sequence: ['Home', 'Cafe']\n",
            "Support: 3 | Sequence: ['Home', 'Gym']\n",
            "Support: 3 | Sequence: ['Office', 'Cafe']\n",
            "Support: 3 | Sequence: ['Office', 'Metro Station']\n",
            "Support: 3 | Sequence: ['Office', 'Gym']\n",
            "Support: 3 | Sequence: ['Coffee Shop', 'Library']\n",
            "Support: 3 | Sequence: ['Coffee Shop', 'Cafe']\n",
            "Support: 3 | Sequence: ['Metro Station', 'Bus Stop']\n",
            "Support: 3 | Sequence: ['Metro Station', 'Restaurant']\n"
          ]
        }
      ]
    },
    {
      "cell_type": "code",
      "source": [
        "from prefixspan import PrefixSpan\n",
        "\n",
        "# Set the number of top patterns you want to see\n",
        "K = 10  # Change this to any number you like\n",
        "\n",
        "# Initialize the PrefixSpan object with your sequences\n",
        "ps = PrefixSpan(all_sequences)\n",
        "\n",
        "# Get frequent patterns with minimum support = 2\n",
        "frequent_patterns = ps.frequent(2)\n",
        "\n",
        "# Filter out single-item sequences\n",
        "filtered_patterns = [pattern for pattern in frequent_patterns if len(pattern[1]) >= 2]\n",
        "\n",
        "# Sort by support in descending order\n",
        "filtered_patterns.sort(reverse=True, key=lambda x: x[0])\n",
        "\n",
        "# Get top-K patterns\n",
        "top_k_patterns = filtered_patterns[:K]\n",
        "\n",
        "# Print results\n",
        "print(f\"Top {K} frequent sequential patterns:\\n\")\n",
        "for support, sequence in top_k_patterns:\n",
        "    print(f\"Support: {support} | Sequence: {sequence}\")\n"
      ],
      "metadata": {
        "colab": {
          "base_uri": "https://localhost:8080/"
        },
        "id": "K3JxmvdvqSKe",
        "outputId": "b6e97bff-c49e-476f-a89b-a037491a2c50"
      },
      "execution_count": 28,
      "outputs": [
        {
          "output_type": "stream",
          "name": "stdout",
          "text": [
            "Top 10 frequent sequential patterns:\n",
            "\n",
            "Support: 6 | Sequence: ['Bus Stop', 'Grocery Store']\n",
            "Support: 5 | Sequence: ['Grocery Store', 'Bus Stop']\n",
            "Support: 5 | Sequence: ['Grocery Store', 'Gym']\n",
            "Support: 5 | Sequence: ['Restaurant', 'Bus Stop']\n",
            "Support: 5 | Sequence: ['School', 'Bus Stop']\n",
            "Support: 4 | Sequence: ['Library', 'Restaurant']\n",
            "Support: 4 | Sequence: ['Grocery Store', 'School']\n",
            "Support: 4 | Sequence: ['Restaurant', 'Grocery Store']\n",
            "Support: 4 | Sequence: ['School', 'Restaurant']\n",
            "Support: 4 | Sequence: ['School', 'Gym']\n"
          ]
        }
      ]
    },
    {
      "cell_type": "code",
      "source": [
        "import matplotlib.pyplot as plt\n",
        "\n",
        "# Extract support and pattern strings\n",
        "supports = [support for support, sequence in top_k_patterns]\n",
        "sequences = [' → '.join(sequence) for support, sequence in top_k_patterns]\n",
        "\n",
        "# Reverse for top-down plotting\n",
        "supports = supports[::-1]\n",
        "sequences = sequences[::-1]\n",
        "\n",
        "# Plot\n",
        "plt.figure(figsize=(10, 6))\n",
        "bars = plt.barh(sequences, supports, color='skyblue')\n",
        "plt.xlabel(\"Support Count\")\n",
        "plt.title(f\"Top {K} Frequent Sequential Patterns (PrefixSpan)\")\n",
        "plt.grid(axis='x', linestyle='--', alpha=0.6)\n",
        "\n",
        "# Annotate bars with support values\n",
        "for bar, support in zip(bars, supports):\n",
        "    plt.text(bar.get_width() + 0.2, bar.get_y() + bar.get_height()/2, str(support), va='center')\n",
        "\n",
        "plt.tight_layout()\n",
        "plt.show()\n"
      ],
      "metadata": {
        "colab": {
          "base_uri": "https://localhost:8080/",
          "height": 607
        },
        "id": "YYxK0YtyqpRD",
        "outputId": "44d57b0d-05f7-4d26-98d6-4fe3b364a485"
      },
      "execution_count": 29,
      "outputs": [
        {
          "output_type": "display_data",
          "data": {
            "text/plain": [
              "<Figure size 1000x600 with 1 Axes>"
            ],
            "image/png": "[encoded data removed]"
          },
          "metadata": {}
        }
      ]
    },
    {
      "cell_type": "code",
      "source": [
        "from prefixspan import PrefixSpan\n",
        "\n",
        "# Set the number of top patterns you want to see\n",
        "K = 10  # Change this as needed\n",
        "\n",
        "# Initialize PrefixSpan with sequences\n",
        "ps = PrefixSpan(all_sequences)\n",
        "\n",
        "# Get frequent patterns with minimum support\n",
        "frequent_patterns = ps.frequent(2)\n",
        "\n",
        "# Step 1: Filter and sort by support (descending)\n",
        "sorted_patterns = sorted(\n",
        "    [p for p in frequent_patterns if len(p[1]) >= 2],\n",
        "    key=lambda x: x[0], reverse=True\n",
        ")\n",
        "\n",
        "# Step 2: Find the support of the K-th pattern\n",
        "threshold_support = sorted_patterns[K - 1][0]\n",
        "\n",
        "# Step 3: Include all patterns with support >= threshold_support\n",
        "top_k_or_more = [p for p in sorted_patterns if p[0] >= threshold_support]\n",
        "\n",
        "# Step 4: Print the result\n",
        "print(f\"Top patterns with support ≥ {threshold_support} (K={K} cutoff):\\n\")\n",
        "for support, sequence in top_k_or_more:\n",
        "    print(f\"Support: {support} | Sequence: {sequence}\")\n"
      ],
      "metadata": {
        "colab": {
          "base_uri": "https://localhost:8080/"
        },
        "id": "CuHlZrQ4rfvp",
        "outputId": "518497fe-91a9-4c3f-8133-2e7561b587f0"
      },
      "execution_count": 30,
      "outputs": [
        {
          "output_type": "stream",
          "name": "stdout",
          "text": [
            "Top patterns with support ≥ 4 (K=10 cutoff):\n",
            "\n",
            "Support: 6 | Sequence: ['Bus Stop', 'Grocery Store']\n",
            "Support: 5 | Sequence: ['Grocery Store', 'Bus Stop']\n",
            "Support: 5 | Sequence: ['Grocery Store', 'Gym']\n",
            "Support: 5 | Sequence: ['Restaurant', 'Bus Stop']\n",
            "Support: 5 | Sequence: ['School', 'Bus Stop']\n",
            "Support: 4 | Sequence: ['Library', 'Restaurant']\n",
            "Support: 4 | Sequence: ['Grocery Store', 'School']\n",
            "Support: 4 | Sequence: ['Restaurant', 'Grocery Store']\n",
            "Support: 4 | Sequence: ['School', 'Restaurant']\n",
            "Support: 4 | Sequence: ['School', 'Gym']\n",
            "Support: 4 | Sequence: ['Bus Stop', 'Cafe']\n",
            "Support: 4 | Sequence: ['Bus Stop', 'Restaurant']\n",
            "Support: 4 | Sequence: ['Bus Stop', 'Gym']\n",
            "Support: 4 | Sequence: ['Gym', 'Playground']\n",
            "Support: 4 | Sequence: ['Gym', 'Restaurant']\n",
            "Support: 4 | Sequence: ['Playground', 'Mall']\n",
            "Support: 4 | Sequence: ['Playground', 'Cafe']\n",
            "Support: 4 | Sequence: ['Cafe', 'Restaurant']\n",
            "Support: 4 | Sequence: ['Mall', 'Cafe']\n",
            "Support: 4 | Sequence: ['Home', 'Restaurant']\n",
            "Support: 4 | Sequence: ['Office', 'Coffee Shop']\n",
            "Support: 4 | Sequence: ['Office', 'Restaurant']\n",
            "Support: 4 | Sequence: ['Coffee Shop', 'School']\n",
            "Support: 4 | Sequence: ['Metro Station', 'Library']\n"
          ]
        }
      ]
    },
    {
      "cell_type": "code",
      "source": [
        "import matplotlib.pyplot as plt\n",
        "\n",
        "# Extract sequences and their support for plotting\n",
        "sequences = [' → '.join(seq) for _, seq in top_k_or_more]\n",
        "supports = [support for support, _ in top_k_or_more]\n",
        "\n",
        "# Plot\n",
        "plt.figure(figsize=(12, 8))\n",
        "bars = plt.barh(sequences, supports, color='skyblue')\n",
        "plt.xlabel(\"Support Count\", fontsize=12)\n",
        "plt.ylabel(\"Sequential Patterns\", fontsize=12)\n",
        "plt.title(f\"Top Sequential Patterns (Support ≥ {threshold_support})\", fontsize=14)\n",
        "plt.gca().invert_yaxis()  # Highest support on top\n",
        "\n",
        "# Optional: add support values at the end of each bar\n",
        "for bar, support in zip(bars, supports):\n",
        "    plt.text(bar.get_width() + 0.2, bar.get_y() + bar.get_height()/2, str(support), va='center')\n",
        "\n",
        "plt.tight_layout()\n",
        "plt.show()\n"
      ],
      "metadata": {
        "colab": {
          "base_uri": "https://localhost:8080/",
          "height": 807
        },
        "id": "X7CKFMirrzbN",
        "outputId": "4c3d440c-397d-4bdc-d9a9-42107a198258"
      },
      "execution_count": 31,
      "outputs": [
        {
          "output_type": "display_data",
          "data": {
            "text/plain": [
              "<Figure size 1200x800 with 1 Axes>"
            ],
            "image/png": "[encoded data removed]"
          },
          "metadata": {}
        }
      ]
    },
    {
      "cell_type": "code",
      "source": [
        "# Function to check for closed patterns\n",
        "def is_closed(pattern, patterns):\n",
        "    \"\"\"\n",
        "    Check if the given pattern is closed. A pattern is closed if no superset has the same support.\n",
        "    \"\"\"\n",
        "    for sup in patterns:\n",
        "        if len(sup[1]) > len(pattern[1]) and set(pattern[1]).issubset(sup[1]):\n",
        "            if sup[0] == pattern[0]:  # Same support, hence not closed\n",
        "                return False\n",
        "    return True\n",
        "\n",
        "# Step 1: Filter closed patterns from top_k_or_more\n",
        "closed_patterns = [p for p in top_k_or_more if is_closed(p, top_k_or_more)]\n",
        "\n",
        "# Step 2: Print the result\n",
        "print(f\"Closed patterns with support ≥ {threshold_support} (K={K} cutoff):\\n\")\n",
        "for support, sequence in closed_patterns:\n",
        "    print(f\"Support: {support} | Sequence: {sequence}\")\n"
      ],
      "metadata": {
        "colab": {
          "base_uri": "https://localhost:8080/"
        },
        "id": "GJV_Ptr92jeN",
        "outputId": "db1fd827-cd7c-4980-b9a3-655d8d88206a"
      },
      "execution_count": 53,
      "outputs": [
        {
          "output_type": "stream",
          "name": "stdout",
          "text": [
            "Closed patterns with support ≥ 4 (K=10 cutoff):\n",
            "\n",
            "Support: 6 | Sequence: ['Bus Stop', 'Grocery Store']\n",
            "Support: 5 | Sequence: ['Grocery Store', 'Bus Stop']\n",
            "Support: 5 | Sequence: ['Grocery Store', 'Gym']\n",
            "Support: 5 | Sequence: ['Restaurant', 'Bus Stop']\n",
            "Support: 5 | Sequence: ['School', 'Bus Stop']\n",
            "Support: 4 | Sequence: ['Library', 'Restaurant']\n",
            "Support: 4 | Sequence: ['Grocery Store', 'School']\n",
            "Support: 4 | Sequence: ['Restaurant', 'Grocery Store']\n",
            "Support: 4 | Sequence: ['School', 'Restaurant']\n",
            "Support: 4 | Sequence: ['School', 'Gym']\n",
            "Support: 4 | Sequence: ['Bus Stop', 'Cafe']\n",
            "Support: 4 | Sequence: ['Bus Stop', 'Restaurant']\n",
            "Support: 4 | Sequence: ['Bus Stop', 'Gym']\n",
            "Support: 4 | Sequence: ['Gym', 'Playground']\n",
            "Support: 4 | Sequence: ['Gym', 'Restaurant']\n",
            "Support: 4 | Sequence: ['Playground', 'Mall']\n",
            "Support: 4 | Sequence: ['Playground', 'Cafe']\n",
            "Support: 4 | Sequence: ['Cafe', 'Restaurant']\n",
            "Support: 4 | Sequence: ['Mall', 'Cafe']\n",
            "Support: 4 | Sequence: ['Home', 'Restaurant']\n",
            "Support: 4 | Sequence: ['Office', 'Coffee Shop']\n",
            "Support: 4 | Sequence: ['Office', 'Restaurant']\n",
            "Support: 4 | Sequence: ['Coffee Shop', 'School']\n",
            "Support: 4 | Sequence: ['Metro Station', 'Library']\n"
          ]
        }
      ]
    },
    {
      "cell_type": "code",
      "source": [
        "prefixspan_patterns = filtered_patterns  # Already sorted and filtered"
      ],
      "metadata": {
        "id": "y9dTt0JKQmvR"
      },
      "execution_count": 29,
      "outputs": []
    },
    {
      "cell_type": "markdown",
      "source": [
        "##GSP"
      ],
      "metadata": {
        "id": "YApYAWB9LiyQ"
      }
    },
    {
      "cell_type": "code",
      "source": [
        "import pickle\n",
        "\n",
        "# Load the list of sequences\n",
        "with open(\"all_sequences.pkl\", \"rb\") as f:\n",
        "    sequences_list = pickle.load(f)\n"
      ],
      "metadata": {
        "id": "nk1KFIytLiEr"
      },
      "execution_count": 14,
      "outputs": []
    },
    {
      "cell_type": "code",
      "source": [
        "from itertools import combinations, product\n",
        "from collections import defaultdict\n",
        "\n",
        "def get_frequent_1_seq(sequences, min_support):\n",
        "    freq = defaultdict(int)\n",
        "    for seq in sequences:\n",
        "        for item in set(seq):\n",
        "            freq[(item,)] += 1\n",
        "    return {k: v for k, v in freq.items() if v >= min_support}\n",
        "\n",
        "def has_infrequent_subseq(candidate, prev_freq_k):\n",
        "    k = len(candidate)\n",
        "    subseqs = [candidate[:i] + candidate[i+1:] for i in range(k)]\n",
        "    return any(sub not in prev_freq_k for sub in subseqs)\n",
        "\n",
        "def generate_candidates(prev_freq_k):\n",
        "    items = set(i for seq in prev_freq_k for i in seq)\n",
        "    candidates = [a + (b,) for a in prev_freq_k for b in items if a[-1] != b]\n",
        "    return [c for c in candidates if not has_infrequent_subseq(c, prev_freq_k)]\n",
        "\n",
        "def is_subsequence(subseq, sequence):\n",
        "    it = iter(sequence)\n",
        "    return all(item in it for item in subseq)\n",
        "\n",
        "def count_support(sequences, candidates):\n",
        "    freq = defaultdict(int)\n",
        "    for seq in sequences:\n",
        "        for cand in candidates:\n",
        "            if is_subsequence(cand, seq):\n",
        "                freq[cand] += 1\n",
        "    return freq\n",
        "\n",
        "def gsp(sequences, min_support):\n",
        "    freq_patterns = {}\n",
        "    k = 1\n",
        "    Lk = get_frequent_1_seq(sequences, min_support)\n",
        "    freq_patterns.update(Lk)\n",
        "\n",
        "    while Lk:\n",
        "        candidates = generate_candidates(list(Lk))\n",
        "        support_counts = count_support(sequences, candidates)\n",
        "        Lk = {k: v for k, v in support_counts.items() if v >= min_support}\n",
        "        freq_patterns.update(Lk)\n",
        "        k += 1\n",
        "    return freq_patterns\n"
      ],
      "metadata": {
        "id": "g-WPB9lWLly5"
      },
      "execution_count": 15,
      "outputs": []
    },
    {
      "cell_type": "code",
      "source": [
        "min_support = 3  # You can adjust this\n",
        "patterns = gsp(sequences_list, min_support)\n",
        "\n",
        "# Display the results\n",
        "for pattern, support in sorted(patterns.items(), key=lambda x: (-len(x[0]), -x[1])):\n",
        "    if len(pattern) >= 2:\n",
        "        print(f\"Support: {support} | Pattern: {pattern}\")\n"
      ],
      "metadata": {
        "colab": {
          "base_uri": "https://localhost:8080/"
        },
        "id": "o57VeR4PLvI2",
        "outputId": "daf9cda3-6b44-4244-ef41-36de37024e44"
      },
      "execution_count": 20,
      "outputs": [
        {
          "output_type": "stream",
          "name": "stdout",
          "text": [
            "Support: 6 | Pattern: ('Bus Stop', 'Grocery Store')\n",
            "Support: 5 | Pattern: ('Restaurant', 'Bus Stop')\n",
            "Support: 5 | Pattern: ('School', 'Bus Stop')\n",
            "Support: 5 | Pattern: ('Grocery Store', 'Bus Stop')\n",
            "Support: 5 | Pattern: ('Grocery Store', 'Gym')\n",
            "Support: 4 | Pattern: ('Library', 'Restaurant')\n",
            "Support: 4 | Pattern: ('Grocery Store', 'School')\n",
            "Support: 4 | Pattern: ('Gym', 'Playground')\n",
            "Support: 4 | Pattern: ('Cafe', 'Restaurant')\n",
            "Support: 4 | Pattern: ('Home', 'Restaurant')\n",
            "Support: 4 | Pattern: ('Office', 'Coffee Shop')\n",
            "Support: 4 | Pattern: ('Coffee Shop', 'School')\n",
            "Support: 4 | Pattern: ('Bus Stop', 'Cafe')\n",
            "Support: 4 | Pattern: ('School', 'Restaurant')\n",
            "Support: 4 | Pattern: ('Office', 'Restaurant')\n",
            "Support: 4 | Pattern: ('Playground', 'Mall')\n",
            "Support: 4 | Pattern: ('Gym', 'Restaurant')\n",
            "Support: 4 | Pattern: ('Restaurant', 'Grocery Store')\n",
            "Support: 4 | Pattern: ('Bus Stop', 'Restaurant')\n",
            "Support: 4 | Pattern: ('Bus Stop', 'Gym')\n",
            "Support: 4 | Pattern: ('Metro Station', 'Library')\n",
            "Support: 4 | Pattern: ('Mall', 'Cafe')\n",
            "Support: 4 | Pattern: ('Playground', 'Cafe')\n",
            "Support: 4 | Pattern: ('School', 'Gym')\n",
            "Support: 3 | Pattern: ('Library', 'Bus Stop')\n",
            "Support: 3 | Pattern: ('Grocery Store', 'Restaurant')\n",
            "Support: 3 | Pattern: ('Mall', 'Home')\n",
            "Support: 3 | Pattern: ('School', 'Coffee Shop')\n",
            "Support: 3 | Pattern: ('Gym', 'School')\n",
            "Support: 3 | Pattern: ('Gym', 'Metro Station')\n",
            "Support: 3 | Pattern: ('Gym', 'Coffee Shop')\n",
            "Support: 3 | Pattern: ('Cafe', 'Metro Station')\n",
            "Support: 3 | Pattern: ('Cafe', 'Coffee Shop')\n",
            "Support: 3 | Pattern: ('Playground', 'Library')\n",
            "Support: 3 | Pattern: ('Coffee Shop', 'Library')\n",
            "Support: 3 | Pattern: ('Cafe', 'Bus Stop')\n",
            "Support: 3 | Pattern: ('Office', 'Cafe')\n",
            "Support: 3 | Pattern: ('Mall', 'Playground')\n",
            "Support: 3 | Pattern: ('Office', 'Metro Station')\n",
            "Support: 3 | Pattern: ('Cafe', 'Playground')\n",
            "Support: 3 | Pattern: ('Playground', 'Restaurant')\n",
            "Support: 3 | Pattern: ('Office', 'Gym')\n",
            "Support: 3 | Pattern: ('Metro Station', 'Restaurant')\n",
            "Support: 3 | Pattern: ('Metro Station', 'Bus Stop')\n",
            "Support: 3 | Pattern: ('Bus Stop', 'School')\n",
            "Support: 3 | Pattern: ('Bus Stop', 'Home')\n",
            "Support: 3 | Pattern: ('School', 'Home')\n",
            "Support: 3 | Pattern: ('Library', 'Gym')\n",
            "Support: 3 | Pattern: ('Bus Stop', 'Office')\n",
            "Support: 3 | Pattern: ('Home', 'Cafe')\n",
            "Support: 3 | Pattern: ('Coffee Shop', 'Cafe')\n",
            "Support: 3 | Pattern: ('Playground', 'Grocery Store')\n",
            "Support: 3 | Pattern: ('Cafe', 'Grocery Store')\n",
            "Support: 3 | Pattern: ('Restaurant', 'Coffee Shop')\n",
            "Support: 3 | Pattern: ('Home', 'Gym')\n"
          ]
        }
      ]
    },
    {
      "cell_type": "code",
      "source": [
        "# Assuming 'patterns' is the dictionary from your previous code\n",
        "gsp_patterns = []\n",
        "for pattern, support in sorted(patterns.items(), key=lambda x: (-len(x[0]), -x[1])):\n",
        "    if len(pattern) >= 2:\n",
        "        gsp_patterns.append((support, pattern))  # Store as (support, pattern) tuples\n",
        "\n",
        "# Now gsp_patterns is a list of (support, pattern) tuples\n",
        "\n",
        "# To save the list to a file (e.g., 'gsp_patterns.pkl'):\n",
        "import pickle\n",
        "with open(\"gsp_patterns.pkl\", \"wb\") as f:\n",
        "    pickle.dump(gsp_patterns, f)\n",
        "\n",
        "# To load it back later:\n",
        "with open(\"gsp_patterns.pkl\", \"rb\") as f:\n",
        "    gsp_patterns = pickle.load(f)"
      ],
      "metadata": {
        "id": "uE3VMtbeN3eX"
      },
      "execution_count": 23,
      "outputs": []
    },
    {
      "cell_type": "markdown",
      "source": [
        "##SPADE"
      ],
      "metadata": {
        "id": "7j661edNsLSc"
      }
    },
    {
      "cell_type": "code",
      "source": [
        "import pickle\n",
        "\n",
        "# Step 1: Load the saved sequences from the pickle file\n",
        "with open(\"all_sequences.pkl\", \"rb\") as f:\n",
        "    all_sequences = pickle.load(f)\n",
        "\n",
        "# Step 2: Extract unique items (locations) from all_sequences\n",
        "all_items = set()\n",
        "for seq in all_sequences:\n",
        "    all_items.update(seq)\n",
        "\n",
        "# Convert to a sorted list (to keep a consistent order)\n",
        "all_items = sorted(list(all_items))\n",
        "\n",
        "# Step 3: Create a mapping of items to columns (item -> column_index)\n",
        "item_to_index = {item: idx for idx, item in enumerate(all_items)}\n",
        "\n",
        "# Step 4: Create a dictionary where key is item, and value is the set of sequence indices containing that item\n",
        "item_sequences = {item: set() for item in all_items}\n",
        "\n",
        "for seq_idx, seq in enumerate(all_sequences):\n",
        "    for item in seq:\n",
        "        item_sequences[item].add(seq_idx)\n",
        "\n",
        "# Print the result with sequence indices in ascending order\n",
        "for item, seq_indices in item_sequences.items():\n",
        "    # Convert the set to a sorted list to ensure ascending order\n",
        "    print(f\"{item}: {sorted(seq_indices)}\")\n"
      ],
      "metadata": {
        "colab": {
          "base_uri": "https://localhost:8080/"
        },
        "id": "YXit3Eb05iD4",
        "outputId": "b76d662b-7dad-4a87-af7f-815c3439bd32"
      },
      "execution_count": 5,
      "outputs": [
        {
          "output_type": "stream",
          "name": "stdout",
          "text": [
            "Bus Stop: [0, 4, 7, 8, 12, 13, 17, 18, 22, 25, 27, 32, 45, 47, 49, 51, 53, 59, 60, 61, 63, 64, 67]\n",
            "Cafe: [2, 4, 5, 7, 14, 22, 24, 26, 28, 33, 35, 39, 41, 42, 43, 53, 54, 59, 60, 66, 67]\n",
            "Coffee Shop: [3, 5, 6, 15, 19, 20, 23, 28, 30, 32, 39, 40, 42, 44, 49, 50, 55, 56, 57, 60, 66]\n",
            "Grocery Store: [0, 12, 16, 17, 25, 27, 32, 35, 45, 48, 53, 58, 61, 62, 64, 67]\n",
            "Gym: [1, 5, 10, 14, 16, 18, 24, 27, 30, 32, 38, 51, 52, 55, 57, 58, 62, 65]\n",
            "Home: [2, 9, 10, 13, 18, 23, 25, 28, 41, 43, 44, 51, 52, 57, 64]\n",
            "Library: [0, 6, 11, 18, 20, 21, 27, 31, 34, 42, 43, 46, 52, 60, 62, 63, 66]\n",
            "Mall: [2, 8, 10, 11, 24, 26, 29, 34, 37, 43, 44, 45, 54, 59, 64, 65]\n",
            "Metro Station: [5, 8, 9, 14, 15, 17, 21, 22, 36, 42, 50, 52, 58, 63]\n",
            "Office: [3, 7, 9, 14, 16, 25, 26, 30, 38, 42, 47, 55, 56, 59, 63]\n",
            "Playground: [1, 6, 8, 10, 11, 14, 16, 21, 24, 26, 31, 33, 35, 37, 44, 53, 60, 61]\n",
            "Restaurant: [0, 2, 7, 13, 16, 17, 21, 25, 27, 28, 29, 33, 35, 37, 39, 40, 46, 48, 49, 51, 52, 55, 63, 65]\n",
            "School: [0, 3, 5, 7, 18, 19, 23, 30, 33, 36, 45, 49, 51, 57, 61, 62, 65, 67]\n"
          ]
        }
      ]
    },
    {
      "cell_type": "code",
      "source": [
        "min_support = 3  # you can change this as needed\n",
        "\n",
        "frequent_1_seq = {\n",
        "    item: seq_ids\n",
        "    for item, seq_ids in item_sequences.items()\n",
        "    if len(seq_ids) >= min_support\n",
        "}\n"
      ],
      "metadata": {
        "id": "d_9epmGM_s5h"
      },
      "execution_count": 25,
      "outputs": []
    },
    {
      "cell_type": "code",
      "source": [
        "from collections import defaultdict\n",
        "\n",
        "frequent_2_seq = []\n",
        "\n",
        "for item1 in frequent_1_seq:\n",
        "    for item2 in frequent_1_seq:\n",
        "        if item1 == item2:\n",
        "            continue\n",
        "\n",
        "        support_count = 0\n",
        "\n",
        "        for sid in item_sequences[item1] & item_sequences[item2]:  # common sequences\n",
        "            seq = all_sequences[sid]\n",
        "\n",
        "            try:\n",
        "                pos1 = seq.index(item1)\n",
        "                pos2 = seq.index(item2)\n",
        "                if pos1 < pos2:\n",
        "                    support_count += 1\n",
        "            except ValueError:\n",
        "                continue\n",
        "\n",
        "        if support_count >= min_support:\n",
        "            frequent_2_seq.append((support_count, (item1, item2)))\n"
      ],
      "metadata": {
        "id": "An7IeDGfPB73"
      },
      "execution_count": 26,
      "outputs": []
    },
    {
      "cell_type": "code",
      "source": [
        "frequent_2_seq = sorted(frequent_2_seq, key=lambda x: x[0], reverse=True)\n",
        "\n",
        "print(\"Frequent 2-sequences (SPADE):\")\n",
        "for support, pattern in frequent_2_seq:\n",
        "    print(f\"Support: {support} | Pattern: {pattern}\")\n"
      ],
      "metadata": {
        "colab": {
          "base_uri": "https://localhost:8080/"
        },
        "id": "tvFZy8VQPFze",
        "outputId": "18ca454a-1b02-49e3-cd83-e5930cdb8826"
      },
      "execution_count": 27,
      "outputs": [
        {
          "output_type": "stream",
          "name": "stdout",
          "text": [
            "Frequent 2-sequences (SPADE):\n",
            "Support: 6 | Pattern: ('Bus Stop', 'Grocery Store')\n",
            "Support: 5 | Pattern: ('Grocery Store', 'Bus Stop')\n",
            "Support: 5 | Pattern: ('Grocery Store', 'Gym')\n",
            "Support: 5 | Pattern: ('Restaurant', 'Bus Stop')\n",
            "Support: 5 | Pattern: ('School', 'Bus Stop')\n",
            "Support: 4 | Pattern: ('Bus Stop', 'Cafe')\n",
            "Support: 4 | Pattern: ('Bus Stop', 'Gym')\n",
            "Support: 4 | Pattern: ('Bus Stop', 'Restaurant')\n",
            "Support: 4 | Pattern: ('Cafe', 'Restaurant')\n",
            "Support: 4 | Pattern: ('Coffee Shop', 'School')\n",
            "Support: 4 | Pattern: ('Grocery Store', 'School')\n",
            "Support: 4 | Pattern: ('Gym', 'Playground')\n",
            "Support: 4 | Pattern: ('Gym', 'Restaurant')\n",
            "Support: 4 | Pattern: ('Home', 'Restaurant')\n",
            "Support: 4 | Pattern: ('Library', 'Restaurant')\n",
            "Support: 4 | Pattern: ('Mall', 'Cafe')\n",
            "Support: 4 | Pattern: ('Metro Station', 'Library')\n",
            "Support: 4 | Pattern: ('Office', 'Coffee Shop')\n",
            "Support: 4 | Pattern: ('Office', 'Restaurant')\n",
            "Support: 4 | Pattern: ('Playground', 'Cafe')\n",
            "Support: 4 | Pattern: ('Playground', 'Mall')\n",
            "Support: 4 | Pattern: ('Restaurant', 'Grocery Store')\n",
            "Support: 4 | Pattern: ('School', 'Gym')\n",
            "Support: 4 | Pattern: ('School', 'Restaurant')\n",
            "Support: 3 | Pattern: ('Bus Stop', 'Home')\n",
            "Support: 3 | Pattern: ('Bus Stop', 'Office')\n",
            "Support: 3 | Pattern: ('Bus Stop', 'School')\n",
            "Support: 3 | Pattern: ('Cafe', 'Bus Stop')\n",
            "Support: 3 | Pattern: ('Cafe', 'Coffee Shop')\n",
            "Support: 3 | Pattern: ('Cafe', 'Grocery Store')\n",
            "Support: 3 | Pattern: ('Cafe', 'Metro Station')\n",
            "Support: 3 | Pattern: ('Cafe', 'Playground')\n",
            "Support: 3 | Pattern: ('Coffee Shop', 'Cafe')\n",
            "Support: 3 | Pattern: ('Coffee Shop', 'Library')\n",
            "Support: 3 | Pattern: ('Grocery Store', 'Restaurant')\n",
            "Support: 3 | Pattern: ('Gym', 'Coffee Shop')\n",
            "Support: 3 | Pattern: ('Gym', 'Metro Station')\n",
            "Support: 3 | Pattern: ('Gym', 'School')\n",
            "Support: 3 | Pattern: ('Home', 'Cafe')\n",
            "Support: 3 | Pattern: ('Home', 'Gym')\n",
            "Support: 3 | Pattern: ('Library', 'Bus Stop')\n",
            "Support: 3 | Pattern: ('Library', 'Gym')\n",
            "Support: 3 | Pattern: ('Mall', 'Home')\n",
            "Support: 3 | Pattern: ('Mall', 'Playground')\n",
            "Support: 3 | Pattern: ('Metro Station', 'Bus Stop')\n",
            "Support: 3 | Pattern: ('Metro Station', 'Restaurant')\n",
            "Support: 3 | Pattern: ('Office', 'Cafe')\n",
            "Support: 3 | Pattern: ('Office', 'Gym')\n",
            "Support: 3 | Pattern: ('Office', 'Metro Station')\n",
            "Support: 3 | Pattern: ('Playground', 'Grocery Store')\n",
            "Support: 3 | Pattern: ('Playground', 'Library')\n",
            "Support: 3 | Pattern: ('Playground', 'Restaurant')\n",
            "Support: 3 | Pattern: ('Restaurant', 'Coffee Shop')\n",
            "Support: 3 | Pattern: ('School', 'Coffee Shop')\n",
            "Support: 3 | Pattern: ('School', 'Home')\n"
          ]
        }
      ]
    },
    {
      "cell_type": "code",
      "source": [
        "spade_patterns = frequent_2_seq  # Already sorted"
      ],
      "metadata": {
        "id": "gEvcvjAJQsGt"
      },
      "execution_count": 30,
      "outputs": []
    },
    {
      "cell_type": "code",
      "source": [
        "# Convert sequences to tuples (in case they aren't already)\n",
        "prefixspan_set = set(tuple(p[1]) for p in prefixspan_patterns)\n",
        "gsp_set = set(tuple(p[1]) for p in gsp_patterns)\n",
        "spade_set = set(tuple(p[1]) for p in spade_patterns)\n"
      ],
      "metadata": {
        "id": "VeBd5Io7QuwG"
      },
      "execution_count": 31,
      "outputs": []
    },
    {
      "cell_type": "code",
      "source": [
        "# Overlaps\n",
        "print(\"PrefixSpan ∩ GSP:\", prefixspan_set & gsp_set)\n",
        "print(\"PrefixSpan ∩ SPADE:\", prefixspan_set & spade_set)\n",
        "print(\"GSP ∩ SPADE:\", gsp_set & spade_set)\n",
        "\n",
        "# Unique patterns\n",
        "print(\"\\nUnique to PrefixSpan:\", prefixspan_set - (gsp_set | spade_set))\n",
        "print(\"Unique to GSP:\", gsp_set - (prefixspan_set | spade_set))\n",
        "print(\"Unique to SPADE:\", spade_set - (prefixspan_set | gsp_set))\n"
      ],
      "metadata": {
        "colab": {
          "base_uri": "https://localhost:8080/"
        },
        "id": "fhcFUys3QxdL",
        "outputId": "b4e28b64-1c44-4f8b-ac11-8a8ca615a28d"
      },
      "execution_count": 32,
      "outputs": [
        {
          "output_type": "stream",
          "name": "stdout",
          "text": [
            "PrefixSpan ∩ GSP: {('Grocery Store', 'Restaurant'), ('Coffee Shop', 'Cafe'), ('Mall', 'Home'), ('Library', 'Gym'), ('Library', 'Bus Stop'), ('School', 'Restaurant'), ('School', 'Home'), ('Grocery Store', 'School'), ('Playground', 'Grocery Store'), ('Restaurant', 'Coffee Shop'), ('Coffee Shop', 'Library'), ('Office', 'Metro Station'), ('Mall', 'Playground'), ('Office', 'Restaurant'), ('Cafe', 'Coffee Shop'), ('Bus Stop', 'Home'), ('Bus Stop', 'Office'), ('Bus Stop', 'Restaurant'), ('Gym', 'Coffee Shop'), ('Metro Station', 'Library'), ('Restaurant', 'Bus Stop'), ('Metro Station', 'Bus Stop'), ('Cafe', 'Bus Stop'), ('Home', 'Cafe'), ('Bus Stop', 'School'), ('Playground', 'Restaurant'), ('Restaurant', 'Grocery Store'), ('Library', 'Restaurant'), ('Mall', 'Cafe'), ('Cafe', 'Grocery Store'), ('School', 'Coffee Shop'), ('Home', 'Gym'), ('Office', 'Cafe'), ('Office', 'Coffee Shop'), ('Grocery Store', 'Bus Stop'), ('Grocery Store', 'Gym'), ('Playground', 'Mall'), ('Bus Stop', 'Cafe'), ('School', 'Bus Stop'), ('School', 'Gym'), ('Metro Station', 'Restaurant'), ('Coffee Shop', 'School'), ('Cafe', 'Metro Station'), ('Cafe', 'Restaurant'), ('Office', 'Gym'), ('Bus Stop', 'Gym'), ('Playground', 'Cafe'), ('Gym', 'Restaurant'), ('Gym', 'Metro Station'), ('Cafe', 'Playground'), ('Playground', 'Library'), ('Gym', 'Playground'), ('Home', 'Restaurant'), ('Gym', 'School'), ('Bus Stop', 'Grocery Store')}\n",
            "PrefixSpan ∩ SPADE: {('Grocery Store', 'Restaurant'), ('Coffee Shop', 'Cafe'), ('Mall', 'Home'), ('Library', 'Gym'), ('Library', 'Bus Stop'), ('School', 'Restaurant'), ('School', 'Home'), ('Grocery Store', 'School'), ('Playground', 'Grocery Store'), ('Restaurant', 'Coffee Shop'), ('Coffee Shop', 'Library'), ('Office', 'Metro Station'), ('Mall', 'Playground'), ('Office', 'Restaurant'), ('Cafe', 'Coffee Shop'), ('Bus Stop', 'Home'), ('Bus Stop', 'Office'), ('Bus Stop', 'Restaurant'), ('Gym', 'Coffee Shop'), ('Metro Station', 'Library'), ('Restaurant', 'Bus Stop'), ('Metro Station', 'Bus Stop'), ('Cafe', 'Bus Stop'), ('Home', 'Cafe'), ('Bus Stop', 'School'), ('Playground', 'Restaurant'), ('Restaurant', 'Grocery Store'), ('Library', 'Restaurant'), ('Mall', 'Cafe'), ('Cafe', 'Grocery Store'), ('Home', 'Gym'), ('School', 'Coffee Shop'), ('Office', 'Cafe'), ('Office', 'Coffee Shop'), ('Grocery Store', 'Gym'), ('Grocery Store', 'Bus Stop'), ('Playground', 'Mall'), ('Bus Stop', 'Cafe'), ('School', 'Bus Stop'), ('School', 'Gym'), ('Metro Station', 'Restaurant'), ('Coffee Shop', 'School'), ('Cafe', 'Metro Station'), ('Cafe', 'Restaurant'), ('Office', 'Gym'), ('Bus Stop', 'Gym'), ('Playground', 'Cafe'), ('Gym', 'Restaurant'), ('Gym', 'Metro Station'), ('Cafe', 'Playground'), ('Playground', 'Library'), ('Gym', 'Playground'), ('Home', 'Restaurant'), ('Gym', 'School'), ('Bus Stop', 'Grocery Store')}\n",
            "GSP ∩ SPADE: {('Grocery Store', 'Restaurant'), ('Coffee Shop', 'Cafe'), ('Mall', 'Home'), ('Library', 'Gym'), ('Library', 'Bus Stop'), ('School', 'Restaurant'), ('School', 'Home'), ('Grocery Store', 'School'), ('Playground', 'Grocery Store'), ('Restaurant', 'Coffee Shop'), ('Coffee Shop', 'Library'), ('Office', 'Metro Station'), ('Mall', 'Playground'), ('Office', 'Restaurant'), ('Cafe', 'Coffee Shop'), ('Bus Stop', 'Home'), ('Bus Stop', 'Office'), ('Bus Stop', 'Restaurant'), ('Gym', 'Coffee Shop'), ('Metro Station', 'Library'), ('Restaurant', 'Bus Stop'), ('Metro Station', 'Bus Stop'), ('Cafe', 'Bus Stop'), ('Home', 'Cafe'), ('Bus Stop', 'School'), ('Playground', 'Restaurant'), ('Restaurant', 'Grocery Store'), ('Library', 'Restaurant'), ('Mall', 'Cafe'), ('Cafe', 'Grocery Store'), ('Home', 'Gym'), ('School', 'Coffee Shop'), ('Office', 'Cafe'), ('Office', 'Coffee Shop'), ('Grocery Store', 'Gym'), ('Grocery Store', 'Bus Stop'), ('Playground', 'Mall'), ('Bus Stop', 'Cafe'), ('School', 'Bus Stop'), ('School', 'Gym'), ('Metro Station', 'Restaurant'), ('Coffee Shop', 'School'), ('Cafe', 'Metro Station'), ('Cafe', 'Restaurant'), ('Office', 'Gym'), ('Bus Stop', 'Gym'), ('Playground', 'Cafe'), ('Gym', 'Restaurant'), ('Gym', 'Metro Station'), ('Cafe', 'Playground'), ('Playground', 'Library'), ('Gym', 'Playground'), ('Home', 'Restaurant'), ('Gym', 'School'), ('Bus Stop', 'Grocery Store')}\n",
            "\n",
            "Unique to PrefixSpan: set()\n",
            "Unique to GSP: set()\n",
            "Unique to SPADE: set()\n"
          ]
        }
      ]
    },
    {
      "cell_type": "code",
      "source": [
        "from matplotlib_venn import venn3\n",
        "import matplotlib.pyplot as plt\n",
        "\n",
        "venn3([prefixspan_set, gsp_set, spade_set],\n",
        "      set_labels=(\"PrefixSpan\", \"GSP\", \"SPADE\"))\n",
        "plt.title(\"Frequent Sequence Pattern Overlap\")\n",
        "plt.show()\n"
      ],
      "metadata": {
        "colab": {
          "base_uri": "https://localhost:8080/",
          "height": 434
        },
        "id": "kajGgCRQQ1IK",
        "outputId": "a6672752-70c4-4314-873f-af8b2c1c9007"
      },
      "execution_count": 33,
      "outputs": [
        {
          "output_type": "display_data",
          "data": {
            "text/plain": [
              "<Figure size 640x480 with 1 Axes>"
            ],
            "image/png": "[encoded data removed]"
          },
          "metadata": {}
        }
      ]
    }
  ]
}